{
 "cells": [
  {
   "cell_type": "code",
   "execution_count": 16,
   "id": "1e256d6a",
   "metadata": {},
   "outputs": [
    {
     "name": "stdout",
     "output_type": "stream",
     "text": [
      "{'total_net': 253737.0, 'total_gross': 312096.51}\n"
     ]
    }
   ],
   "source": [
    "import os\n",
    "import json\n",
    "\n",
    "def calculate_totals() -> dict:\n",
    "    \"\"\"\n",
    "    Calculate total net and gross amounts from structured invoice JSON files in the given directory.\n",
    "    \"\"\"\n",
    "\n",
    "    directory_path = r\"C:\\Users\\Marcin\\OneDrive\\Pulpit\\AccountantAI\\processed_invoices\"\n",
    "    \n",
    "    if not os.path.isdir(directory_path):\n",
    "        raise NotADirectoryError(f\"Directory not found: {directory_path}\")\n",
    "\n",
    "    total_net = 0.0\n",
    "    total_gross = 0.0\n",
    "\n",
    "    for filename in os.listdir(directory_path):\n",
    "        if filename.endswith('.json'):\n",
    "            file_path = os.path.join(directory_path, filename)\n",
    "\n",
    "            try:\n",
    "                with open(file_path, 'r', encoding='utf-8') as f:\n",
    "                    invoice = json.load(f)\n",
    "\n",
    "                # Fix double-encoded JSON\n",
    "                if isinstance(invoice, str):\n",
    "                    invoice = json.loads(invoice)\n",
    "\n",
    "                items = invoice.get('items', [])\n",
    "                \n",
    "                for item in items:\n",
    "                    quantity = item.get('quantity', 0)\n",
    "                    net_price = item.get('net_price', 0.0)\n",
    "                    vat_rate = item.get('vat_rate', 0.0)\n",
    "\n",
    "                    item_net_total = quantity * net_price\n",
    "                    item_gross_total = item_net_total * (1 + vat_rate)\n",
    "\n",
    "                    total_net += item_net_total\n",
    "                    total_gross += item_gross_total\n",
    "\n",
    "            except (json.JSONDecodeError, ValueError, KeyError) as e:\n",
    "                print(f\"Skipping file {filename} due to error: {e}\")\n",
    "\n",
    "    return {\n",
    "        \"total_net\": round(total_net, 2),\n",
    "        \"total_gross\": round(total_gross, 2)\n",
    "    }\n",
    "\n",
    "if __name__ == \"__main__\":\n",
    "    totals = calculate_totals()\n",
    "    print(totals)\n"
   ]
  },
  {
   "cell_type": "code",
   "execution_count": null,
   "id": "d579ac6a",
   "metadata": {},
   "outputs": [],
   "source": []
  }
 ],
 "metadata": {
  "kernelspec": {
   "display_name": "venv",
   "language": "python",
   "name": "python3"
  },
  "language_info": {
   "codemirror_mode": {
    "name": "ipython",
    "version": 3
   },
   "file_extension": ".py",
   "mimetype": "text/x-python",
   "name": "python",
   "nbconvert_exporter": "python",
   "pygments_lexer": "ipython3",
   "version": "3.11.9"
  }
 },
 "nbformat": 4,
 "nbformat_minor": 5
}
